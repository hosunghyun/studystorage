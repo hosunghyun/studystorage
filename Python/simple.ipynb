{
 "cells": [
  {
   "cell_type": "code",
   "execution_count": 7,
   "metadata": {},
   "outputs": [
    {
     "name": "stdout",
     "output_type": "stream",
     "text": [
      "반지름이 16.5 cm인 원의 둘레와 원의 넓이를 계산하시오:\n",
      "(원주율 = 3.1)\n",
      "반지름: 16.50\n",
      "원의 둘레: 103.62 cm\n",
      "원의 넓이: 854.87 cm²\n"
     ]
    }
   ],
   "source": [
    "radius = float(input(\"반지름을 입력하세요: \"))\n",
    "PI = 3.14\n",
    "\n",
    "# 원의 둘레와 넓이 계산\n",
    "circumference = radius * 2 * PI\n",
    "area = radius * radius * PI\n",
    "\n",
    "# 결과 출력\n",
    "print(\"반지름이 %.1f cm인 원의 둘레와 원의 넓이를 계산하시오:\" % radius)\n",
    "print(\"(원주율 = %.1f)\" % PI)\n",
    "print(\"반지름: %.1f\" % radius)\n",
    "print(\"원의 둘레: %.2f cm\" % circumference)\n",
    "print(\"원의 넓이: %.2f cm²\" % area)\n"
   ]
  }
 ],
 "metadata": {
  "kernelspec": {
   "display_name": "Python 3",
   "language": "python",
   "name": "python3"
  },
  "language_info": {
   "codemirror_mode": {
    "name": "ipython",
    "version": 3
   },
   "file_extension": ".py",
   "mimetype": "text/x-python",
   "name": "python",
   "nbconvert_exporter": "python",
   "pygments_lexer": "ipython3",
   "version": "3.12.4"
  }
 },
 "nbformat": 4,
 "nbformat_minor": 2
}
